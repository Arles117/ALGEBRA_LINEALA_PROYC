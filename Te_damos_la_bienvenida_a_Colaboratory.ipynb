{
  "cells": [
    {
      "cell_type": "markdown",
      "metadata": {
        "id": "view-in-github",
        "colab_type": "text"
      },
      "source": [
        "<a href=\"https://colab.research.google.com/github/Arles117/ALGEBRA_LINEALA_PROYC/blob/main/Te_damos_la_bienvenida_a_Colaboratory.ipynb\" target=\"_parent\"><img src=\"https://colab.research.google.com/assets/colab-badge.svg\" alt=\"Open In Colab\"/></a>"
      ]
    },
    {
      "cell_type": "markdown",
      "source": [
        "Basde de Datos - Practica N° 2"
      ],
      "metadata": {
        "id": "b8vw-NhSfNlL"
      }
    },
    {
      "cell_type": "code",
      "source": [
        "# Ejercicio N°1\n",
        "\n",
        "def dia_de_la_semana(numero):\n",
        "    dias = {\n",
        "        1: \"Lunes\",\n",
        "        2: \"Martes\",\n",
        "        3: \"Miércoles\",\n",
        "        4: \"Jueves\",\n",
        "        5: \"Viernes\",\n",
        "        6: \"Sábado\",\n",
        "        7: \"Domingo\"\n",
        "    }\n",
        "\n",
        "    return dias.get(numero, \"Número inválido. Por favor, introduce un número del 1 al 7.\")\n",
        "\n",
        "numero = int(input(\"Introduce un número del 1 al 7: \"))\n",
        "print(\"El día de la semana es:\", dia_de_la_semana(numero))\n",
        "\n",
        "print(\"Fin\")"
      ],
      "metadata": {
        "id": "DiHabRAzfU2M",
        "outputId": "3d6bd740-fb92-473b-c896-904acb92be62",
        "colab": {
          "base_uri": "https://localhost:8080/",
          "height": 0
        }
      },
      "execution_count": 2,
      "outputs": [
        {
          "output_type": "stream",
          "name": "stdout",
          "text": [
            "Introduce un número del 1 al 7: 5\n",
            "El día de la semana es: Viernes\n",
            "Fin\n"
          ]
        }
      ]
    },
    {
      "cell_type": "code",
      "source": [
        "#Ejercicio N°2\n",
        "\n",
        "def verificar_candidato(edad, experiencia_previa):\n",
        "    if 18 <= edad <= 60 and experiencia_previa:\n",
        "        return \"Elegible\"\n",
        "    else:\n",
        "        return \"No elegible\"\n",
        "\n",
        "edad_candidato = int(input(\"Ingrese la edad del candidato: \"))\n",
        "experiencia_previa = input(\"¿Tiene experiencia previa? (si/no): \").strip().lower() == 'si'\n",
        "\n",
        "resultado = verificar_candidato(edad_candidato, experiencia_previa)\n",
        "print(resultado)\n",
        "print(\"Fin\")"
      ],
      "metadata": {
        "id": "c2D8z3kbgorU",
        "outputId": "6a900da5-4558-418b-af79-8ebd02df1e97",
        "colab": {
          "base_uri": "https://localhost:8080/",
          "height": 0
        }
      },
      "execution_count": 6,
      "outputs": [
        {
          "output_type": "stream",
          "name": "stdout",
          "text": [
            "Ingrese la edad del candidato: 25\n",
            "¿Tiene experiencia previa? (si/no): no\n",
            "No elegible\n",
            "Fin\n"
          ]
        }
      ]
    },
    {
      "cell_type": "code",
      "source": [
        "# Ejercicio N°3\n",
        "\n",
        "suma = sum(range(1, 101))\n",
        "\n",
        "print(\"La suma de los números del 1 al 100 es:\", suma)\n",
        "print(\"Fin\")"
      ],
      "metadata": {
        "id": "VgjwkYmho9hX",
        "outputId": "2ca0ec2e-3654-4b54-d2f1-dea45206e0d9",
        "colab": {
          "base_uri": "https://localhost:8080/",
          "height": 0
        }
      },
      "execution_count": 12,
      "outputs": [
        {
          "output_type": "stream",
          "name": "stdout",
          "text": [
            "La suma de los números del 1 al 100 es: 5050\n",
            "Fin\n"
          ]
        }
      ]
    },
    {
      "cell_type": "code",
      "source": [
        "# Ejercicio N°4\n",
        "\n",
        "def es_par(num):\n",
        "    return num % 2 == 0\n",
        "\n",
        "while True:\n",
        "    entrada = input(\"Ingrese un número (o 'salir' para terminar): \").strip()\n",
        "\n",
        "    if entrada.lower() == 'salir':\n",
        "        break\n",
        "\n",
        "    try:\n",
        "        numero = int(entrada)\n",
        "        if es_par(numero):\n",
        "            print(f\"El número {numero} es par.\")\n",
        "        else:\n",
        "            print(f\"El número {numero} es impar.\")\n",
        "    except ValueError:\n",
        "        print(\"Por favor, ingrese un número válido.\")\n",
        "\n",
        "print(\"Fin\")"
      ],
      "metadata": {
        "id": "nD8ZUdjPpkMb",
        "outputId": "b4f9aede-a91f-4833-83a5-c0cdf3c91e52",
        "colab": {
          "base_uri": "https://localhost:8080/",
          "height": 0
        }
      },
      "execution_count": 14,
      "outputs": [
        {
          "output_type": "stream",
          "name": "stdout",
          "text": [
            "Ingrese un número (o 'salir' para terminar): 5\n",
            "El número 5 es impar.\n",
            "Ingrese un número (o 'salir' para terminar): 2\n",
            "El número 2 es par.\n",
            "Ingrese un número (o 'salir' para terminar): 3\n",
            "El número 3 es impar.\n",
            "Ingrese un número (o 'salir' para terminar): salir\n",
            "Fin\n"
          ]
        }
      ]
    },
    {
      "cell_type": "code",
      "source": [
        "# Ejercicio N°5\n",
        "\n",
        "def solicitar_contraseña():\n",
        "    while True:\n",
        "        contraseña1 = input(\"Ingrese su contraseña: \")\n",
        "        contraseña2 = input(\"Vuelva a ingresar su contraseña: \")\n",
        "\n",
        "        if contraseña1 == contraseña2:\n",
        "            print(\"Las contraseñas coinciden.\")\n",
        "            break\n",
        "        else:\n",
        "            print(\"Las contraseñas no coinciden. Inténtelo de nuevo.\")\n",
        "\n",
        "solicitar_contraseña()\n",
        "print(\"Fin\")"
      ],
      "metadata": {
        "id": "59S8vuDRqfAx",
        "outputId": "890645af-4728-4abb-ea1a-c0879b665e2c",
        "colab": {
          "base_uri": "https://localhost:8080/",
          "height": 0
        }
      },
      "execution_count": 16,
      "outputs": [
        {
          "output_type": "stream",
          "name": "stdout",
          "text": [
            "Ingrese su contraseña: 1234\n",
            "Vuelva a ingresar su contraseña: 3553\n",
            "Las contraseñas no coinciden. Inténtelo de nuevo.\n",
            "Ingrese su contraseña: 1234\n",
            "Vuelva a ingresar su contraseña: 1234\n",
            "Las contraseñas coinciden.\n",
            "Fin\n"
          ]
        }
      ]
    }
  ],
  "metadata": {
    "colab": {
      "name": "Te damos la bienvenida a Colaboratory",
      "provenance": [],
      "include_colab_link": true
    },
    "kernelspec": {
      "display_name": "Python 3",
      "name": "python3"
    }
  },
  "nbformat": 4,
  "nbformat_minor": 0
}